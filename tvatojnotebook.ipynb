{
 "cells": [
  {
   "cell_type": "code",
   "execution_count": 7,
   "metadata": {
    "collapsed": false
   },
   "outputs": [
    {
     "data": {
      "image/png": "[encoded data removed]",
      "text/plain": [
       "<matplotlib.figure.Figure at 0x10eb42668>"
      ]
     },
     "metadata": {},
     "output_type": "display_data"
    }
   ],
   "source": [
    "%matplotlib inline\n",
    "import numpy as np\n",
    "import matplotlib.pyplot as plt\n",
    "from IPython.html.widgets import interactive\n",
    "from IPython.display import display\n",
    "from ipywidgets import *\n",
    "\n",
    "\n",
    "def sigmoid(x,a,b):\n",
    "    #sigmoid function with parameters a = center; b = width\n",
    "    s= 1/(1+np.exp(-(x-a)/b))\n",
    "    return 100.0*(s-min(s))/(max(s)-min(s)) # normalize sigmoid to 0-100\n",
    "\n",
    "def sigmoid_demo(a=5,b=1):\n",
    "    x = np.linspace(0,10,256)\n",
    "    s = 1/(1+np.exp(-(x-a)/(b+0.1))) # +0.1 to avoid dividing by 0\n",
    "    sn = 100.0*(s-min(s))/(max(s)-min(s)) # normalize sigmoid to 0-100\n",
    "    fig = plt.figure(figsize=(24,6))\n",
    "    ax1 = fig.add_subplot(2, 1, 1)\n",
    "    ax1.set_xticks([])\n",
    "    ax1.set_yticks([])\n",
    "    plt.plot(x,sn,lw=2,color='black')\n",
    "    plt.xlim(x.min(), x.max())\n",
    "\n",
    "a_slider = IntSlider(min=-5, max=5, step=1, value=0)\n",
    "b_slider = FloatSlider(min=-5, max=5, step=0.3, value=0)\n",
    "w=interactive(sigmoid_demo,a=a_slider,b=b_slider)\n",
    "display(w)"
   ]
  },
  {
   "cell_type": "code",
   "execution_count": 4,
   "metadata": {
    "collapsed": true
   },
   "outputs": [],
   "source": [
    "from ipywidgets import *"
   ]
  },
  {
   "cell_type": "code",
   "execution_count": 2,
   "metadata": {
    "collapsed": true
   },
   "outputs": [],
   "source": [
    "IntSlider()"
   ]
  },
  {
   "cell_type": "code",
   "execution_count": 3,
   "metadata": {
    "collapsed": true
   },
   "outputs": [],
   "source": [
    "from IPython.display import display\n",
    "w = IntSlider()\n",
    "display(w)"
   ]
  }
 ],
 "metadata": {
  "anaconda-cloud": {},
  "kernelspec": {
   "display_name": "Python [conda root]",
   "language": "python",
   "name": "conda-root-py"
  },
  "language_info": {
   "codemirror_mode": {
    "name": "ipython",
    "version": 3
   },
   "file_extension": ".py",
   "mimetype": "text/x-python",
   "name": "python",
   "nbconvert_exporter": "python",
   "pygments_lexer": "ipython3",
   "version": "3.5.2"
  },
  "widgets": {
   "state": {
    "0b1a3f84df524a8db5fe3d42ea63b861": {
     "views": [
      {
       "cell_index": 0
      }
     ]
    },
    "1538512d6a59480785a5225a56c96b18": {
     "views": [
      {
       "cell_index": 2
      }
     ]
    },
    "9172f73b59054f009991c80f487b4a77": {
     "views": [
      {
       "cell_index": 3
      }
     ]
    }
   },
   "version": "1.2.0"
  }
 },
 "nbformat": 4,
 "nbformat_minor": 1
}
